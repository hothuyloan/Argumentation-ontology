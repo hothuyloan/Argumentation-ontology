{
 "cells": [
  {
   "cell_type": "markdown",
   "metadata": {},
   "source": [
    "# Knowledge Representation on the Web -- RDFS tutorial\n",
    "\n",
    "Here we'll learn the basics of RDFS (RDF Schema) and how to perform basic RDFS reasoning with rdflib (documentation [here](https://rdflib.readthedocs.io/en/stable/)) and owlrl (documentation [here](https://owl-rl.readthedocs.io/en/latest/))."
   ]
  },
  {
   "cell_type": "markdown",
   "metadata": {},
   "source": [
    "## Imports\n",
    "\n",
    "owlrl is a library implementing basic RDFS and OWL reasoning on top of rdflib. We'll install and import its relevant symbols."
   ]
  },
  {
   "cell_type": "code",
   "execution_count": 1,
   "metadata": {},
   "outputs": [
    {
     "name": "stdout",
     "output_type": "stream",
     "text": [
      "Requirement already satisfied: rdflib in /home/amp/.local/lib/python3.7/site-packages (4.2.2)\n",
      "Requirement already satisfied: owlrl in /home/amp/.local/lib/python3.7/site-packages (5.2.1)\n",
      "Requirement already satisfied: pyparsing in /home/amp/.local/lib/python3.7/site-packages (from rdflib) (2.0.7)\n",
      "Requirement already satisfied: isodate in /home/amp/.local/lib/python3.7/site-packages (from rdflib) (0.6.0)\n",
      "Requirement already satisfied: rdflib-jsonld>=0.4.0 in /home/amp/.local/lib/python3.7/site-packages (from owlrl) (0.4.0)\n",
      "Requirement already satisfied: six in /home/amp/.local/lib/python3.7/site-packages (from isodate->rdflib) (1.11.0)\n"
     ]
    }
   ],
   "source": [
    "import sys\n",
    "!{sys.executable} -m pip install rdflib owlrl\n",
    "\n",
    "from rdflib import Graph, RDFS\n",
    "from owlrl import DeductiveClosure, RDFS_Semantics"
   ]
  },
  {
   "cell_type": "markdown",
   "metadata": {},
   "source": [
    "## Loading RDFS graphs\n",
    "\n",
    "The file `rdfs.ttl` contains a basic Knowledge Graph in RDF containing statements with RDFS semantics."
   ]
  },
  {
   "cell_type": "code",
   "execution_count": 2,
   "metadata": {},
   "outputs": [
    {
     "name": "stdout",
     "output_type": "stream",
     "text": [
      "Loaded graph has 9 triples\n"
     ]
    }
   ],
   "source": [
    "g = Graph()\n",
    "g.parse('rdfs.ttl', format='turtle')\n",
    "print(\"Loaded graph has {} triples\".format(len(g)))"
   ]
  },
  {
   "cell_type": "markdown",
   "metadata": {},
   "source": [
    "Inspecting the graph as-is; this is also called the \"asserted graph\""
   ]
  },
  {
   "cell_type": "code",
   "execution_count": 3,
   "metadata": {},
   "outputs": [
    {
     "name": "stdout",
     "output_type": "stream",
     "text": [
      "http://www.example.org/sample.rdfs#Abel http://www.w3.org/1999/02/22-rdf-syntax-ns#type http://www.example.org/sample.rdfs#Person\n",
      "http://www.example.org/sample.rdfs#Adam http://www.example.org/sample.rdfs#hasSon http://www.example.org/sample.rdfs#Abel\n",
      "http://www.example.org/sample.rdfs#Adam http://www.w3.org/1999/02/22-rdf-syntax-ns#type http://www.example.org/sample.rdfs#Person\n",
      "http://www.example.org/sample.rdfs#Dog http://www.w3.org/2000/01/rdf-schema#subClassOf http://www.example.org/sample.rdfs#Animal\n",
      "http://www.example.org/sample.rdfs#Max http://www.w3.org/1999/02/22-rdf-syntax-ns#type http://www.example.org/sample.rdfs#Dog\n",
      "http://www.example.org/sample.rdfs#Person http://www.w3.org/2000/01/rdf-schema#subClassOf http://www.example.org/sample.rdfs#Animal\n",
      "http://www.example.org/sample.rdfs#hasChild http://www.w3.org/2000/01/rdf-schema#domain http://www.example.org/sample.rdfs#Animal\n",
      "http://www.example.org/sample.rdfs#hasChild http://www.w3.org/2000/01/rdf-schema#range http://www.example.org/sample.rdfs#Animal\n",
      "http://www.example.org/sample.rdfs#hasSon http://www.w3.org/2000/01/rdf-schema#subPropertyOf http://www.example.org/sample.rdfs#hasChild\n"
     ]
    }
   ],
   "source": [
    "#for s,p,o in sorted(g.triples((None,None,None))):\n",
    "#    print(s,p,o)\n",
    "\n",
    "# get the list classes \n",
    "uniqClasses = list()\n",
    "for s,p, o in g.triples((None, RDF.type , None)):\n",
    "    uniqClasses.append(o)\n",
    "    \n",
    " \n",
    "print(\"List of classes\")\n",
    "for cl in set(uniqClasses) : print (cl)\n",
    "    \n",
    "personProperty = list()\n",
    "# let's look at properties of the class Person\n",
    "for s,p,o in g.triples((None, None,URIRef(\"http://www.example.org/sample.rdfs#Person\") )): #always remember to pass a string to URIRef ! \n",
    "    \n",
    "    # now we look at which predicates does a Person has \n",
    "    for s1,p1,o1 in g.triples((s, None, None)):\n",
    "        personProperty.append(p1)\n",
    "\n",
    "print(\"\\nProperties for the class 'Person'\")\n",
    "for pp in set(personProperty) : print (pp)\n",
    "    \n",
    "\n",
    "print(\"\\nInstances in the dataset\")\n",
    "for s,p,o in g.triples((None, RDF.type, None )):\n",
    "    print (s)\n"
   ]
  },
  {
   "cell_type": "markdown",
   "metadata": {},
   "source": [
    "## RDFS inferencing\n",
    "\n",
    "The inference engine in owlrl is triggered by `DeductiveClosure`, which computes the closure of the graph. This requires us to specify under which semantic regime we want to perform the inference (e.g. what kind of rules under the RDFS, OWL, etc. semantics we want the reasoner to produce derivations on). For RDFS semantics we use `RDFS_Semantics` as parameter. See extra options [here](https://owl-rl.readthedocs.io/en/latest/stubs/owlrl.html#module-owlrl)\n"
   ]
  },
  {
   "cell_type": "code",
   "execution_count": 4,
   "metadata": {},
   "outputs": [
    {
     "name": "stdout",
     "output_type": "stream",
     "text": [
      "RDFS closure of the graph has 35 triples\n"
     ]
    }
   ],
   "source": [
    "DeductiveClosure(RDFS_Semantics).expand(g)\n",
    "print(\"RDFS closure of the graph has {} triples\".format(len(g)))"
   ]
  },
  {
   "cell_type": "code",
   "execution_count": 6,
   "metadata": {},
   "outputs": [
    {
     "ename": "NameError",
     "evalue": "name 'RDFS' is not defined",
     "output_type": "error",
     "traceback": [
      "\u001b[0;31m---------------------------------------------------------------------------\u001b[0m",
      "\u001b[0;31mNameError\u001b[0m                                 Traceback (most recent call last)",
      "\u001b[0;32m<ipython-input-6-724edab31050>\u001b[0m in \u001b[0;36m<module>\u001b[0;34m\u001b[0m\n\u001b[1;32m      1\u001b[0m \u001b[0;32mfor\u001b[0m \u001b[0ms\u001b[0m\u001b[0;34m,\u001b[0m\u001b[0mp\u001b[0m\u001b[0;34m,\u001b[0m\u001b[0mo\u001b[0m \u001b[0;32min\u001b[0m \u001b[0msorted\u001b[0m\u001b[0;34m(\u001b[0m\u001b[0mg\u001b[0m\u001b[0;34m.\u001b[0m\u001b[0mtriples\u001b[0m\u001b[0;34m(\u001b[0m\u001b[0;34m(\u001b[0m\u001b[0;32mNone\u001b[0m\u001b[0;34m,\u001b[0m\u001b[0;32mNone\u001b[0m\u001b[0;34m,\u001b[0m\u001b[0;32mNone\u001b[0m\u001b[0;34m)\u001b[0m\u001b[0;34m)\u001b[0m\u001b[0;34m)\u001b[0m\u001b[0;34m:\u001b[0m\u001b[0;34m\u001b[0m\u001b[0;34m\u001b[0m\u001b[0m\n\u001b[0;32m----> 2\u001b[0;31m     \u001b[0;32mif\u001b[0m \u001b[0mo\u001b[0m \u001b[0;34m!=\u001b[0m \u001b[0mRDFS\u001b[0m\u001b[0;34m.\u001b[0m\u001b[0mResource\u001b[0m\u001b[0;34m:\u001b[0m\u001b[0;34m\u001b[0m\u001b[0;34m\u001b[0m\u001b[0m\n\u001b[0m\u001b[1;32m      3\u001b[0m         \u001b[0mprint\u001b[0m\u001b[0;34m(\u001b[0m\u001b[0ms\u001b[0m\u001b[0;34m,\u001b[0m\u001b[0mp\u001b[0m\u001b[0;34m,\u001b[0m\u001b[0mo\u001b[0m\u001b[0;34m)\u001b[0m\u001b[0;34m\u001b[0m\u001b[0;34m\u001b[0m\u001b[0m\n",
      "\u001b[0;31mNameError\u001b[0m: name 'RDFS' is not defined"
     ]
    }
   ],
   "source": [
    "for s,p,o in sorted(g.triples((None,None,None))):\n",
    "    if o != RDFS.Resource:\n",
    "        print(s,p,o)"
   ]
  },
  {
   "cell_type": "markdown",
   "metadata": {},
   "source": [
    "## Exercise -- the explicit (asserted) and the implicit (derived)\n",
    "\n",
    "Write here code to generate a graph that contains **RDFS derived triples only** from the Knowledge Graph at `rdfs.ttl`, not the asserted ones. See a clue on rdflib graph algebra [here](https://rdflib.readthedocs.io/en/stable/merging.html)"
   ]
  },
  {
   "cell_type": "code",
   "execution_count": null,
   "metadata": {},
   "outputs": [],
   "source": [
    "## Your answer here (correct answer in rdfs-ex.py -- don't look until you've written yours!)\n"
   ]
  },
  {
   "cell_type": "markdown",
   "metadata": {},
   "source": [
    "## Exercise -- explain derivations\n",
    "\n",
    "Based on the RDFS semantics, explain the rule that was applied to generate each derivation of the previous exercise"
   ]
  }
 ],
 "metadata": {
  "kernelspec": {
   "display_name": "Python 3",
   "language": "python",
   "name": "python3"
  },
  "language_info": {
   "codemirror_mode": {
    "name": "ipython",
    "version": 3
   },
   "file_extension": ".py",
   "mimetype": "text/x-python",
   "name": "python",
   "nbconvert_exporter": "python",
   "pygments_lexer": "ipython3",
   "version": "3.7.5"
  }
 },
 "nbformat": 4,
 "nbformat_minor": 2
}
