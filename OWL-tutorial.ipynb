{
 "cells": [
  {
   "cell_type": "markdown",
   "metadata": {},
   "source": [
    "# OWL tutorial"
   ]
  },
  {
   "cell_type": "markdown",
   "metadata": {},
   "source": [
    "Let's install owlready if we do not have it"
   ]
  },
  {
   "cell_type": "code",
   "execution_count": 6,
   "metadata": {},
   "outputs": [],
   "source": [
    "## Uncomment if you do not have owlrl installed (you should have it installed from the RDFS tutorial)\n",
    "#import sys\n",
    "#!{sys.executable} -m pip install rdflib  owlready2 pandas\n",
    "\n",
    "import pandas as pd\n",
    "from rdflib import Graph, Literal, Namespace, RDF, URIRef, OWL\n",
    "from rdflib.namespace import DC, FOAF\n",
    "\n",
    "from owlready2 import *\n",
    "\n",
    "# documentation : https://pythonhosted.org/Owlready2/"
   ]
  },
  {
   "cell_type": "markdown",
   "metadata": {},
   "source": [
    "Let's start with some basic information from a .CSV"
   ]
  },
  {
   "cell_type": "code",
   "execution_count": null,
   "metadata": {},
   "outputs": [],
   "source": [
    "# if you have problems with installing pandas, just skip this block and look at file 'music.csv'\n",
    "csv_file =  pd.read_csv('music.csv')\n",
    "csv_file"
   ]
  },
  {
   "cell_type": "markdown",
   "metadata": {},
   "source": [
    "### Creating an ontology\n",
    "\n",
    "Initialise an empty ontology"
   ]
  },
  {
   "cell_type": "code",
   "execution_count": 9,
   "metadata": {
    "scrolled": true
   },
   "outputs": [],
   "source": [
    "onto = get_ontology(\"http://test.org/myonto.owl\") # creates an empty ontology. Use the namespace you like!"
   ]
  },
  {
   "cell_type": "markdown",
   "metadata": {},
   "source": [
    "#### Create classes and subclasses\n",
    "\n",
    "Let's add some classes to the ontology"
   ]
  },
  {
   "cell_type": "code",
   "execution_count": 10,
   "metadata": {},
   "outputs": [],
   "source": [
    "# every class is a subclass of owl:Thing!\n",
    "\n",
    "class Person(Thing):\n",
    "    namespace = onto\n",
    "    \n",
    "class Band(Thing):\n",
    "    namespace = onto\n",
    "        \n",
    "class Instrument(Thing):\n",
    "    namespace = onto\n",
    "\n",
    "class Location(Thing) :\n",
    "    namespace = onto"
   ]
  },
  {
   "cell_type": "code",
   "execution_count": 11,
   "metadata": {
    "scrolled": true
   },
   "outputs": [
    {
     "name": "stdout",
     "output_type": "stream",
     "text": [
      "{myonto.Person, myonto.Artist, owl.Thing}\n"
     ]
    }
   ],
   "source": [
    "# add a class that is a subclass    \n",
    "class Artist(Person):\n",
    "    pass \n",
    "    # no need to specify namespace here, which is derived from Person\n",
    "\n",
    "    \n",
    "# let's check the superclasses\n",
    "print(Artist.ancestors())"
   ]
  },
  {
   "cell_type": "code",
   "execution_count": 12,
   "metadata": {
    "scrolled": true
   },
   "outputs": [
    {
     "name": "stdout",
     "output_type": "stream",
     "text": [
      "[myonto.Person, myonto.Band, myonto.Instrument, myonto.Location, myonto.Artist]\n"
     ]
    }
   ],
   "source": [
    "# print the list of the classes in the ontology\n",
    "\n",
    "print(list(onto.classes()))"
   ]
  },
  {
   "cell_type": "markdown",
   "metadata": {},
   "source": [
    "#### Create object properties\n",
    "Properties of type owl:ObjectProperty have only non-literals as range, \n",
    "They are rdfs:subPropertyOf owl:topObjectProperty"
   ]
  },
  {
   "cell_type": "code",
   "execution_count": 13,
   "metadata": {},
   "outputs": [],
   "source": [
    "class plays_instrument(ObjectProperty): \n",
    "    domain = [Artist]\n",
    "    range = [Instrument]\n",
    "    namespace = onto\n",
    "    pass\n",
    "        \n",
    "class has_fan(ObjectProperty, Artist >> Person) : # another way of specifying domain and range\n",
    "    namespace = onto\n",
    "\n",
    "class born_in(Person >> Location ):\n",
    "    namespace = onto\n",
    "\n",
    "class has_artist(ObjectProperty, Band >> Artist): \n",
    "    namespace = onto"
   ]
  },
  {
   "cell_type": "markdown",
   "metadata": {},
   "source": [
    "Let's add properties with restrictions too"
   ]
  },
  {
   "cell_type": "code",
   "execution_count": 14,
   "metadata": {},
   "outputs": [],
   "source": [
    "# properties with restrictions\n",
    "class located_in(ObjectProperty, TransitiveProperty): # if <A locatedin B>, and <B locatedin C>, infer <A locatedin C> \n",
    "    namespace = onto\n",
    "    domain = [Location]\n",
    "    range = [Location]\n",
    "    \n",
    "class plays_in(ObjectProperty, Artist >> Band): \n",
    "    inverse_property =  has_artist # if <A plays_in B>, infer <B hasArtist A>\n",
    "    namespace = onto\n",
    "    \n",
    "class is_fan(Person >> Artist): \n",
    "    inverse_property = has_fan \n",
    "    namespace = onto\n",
    "    \n",
    "class plays_with(ObjectProperty, SymmetricProperty): #  if <A plays_with B>, infer <B plays_with A>\n",
    "    domain = [Artist]\n",
    "    range = [Artist]   \n",
    "    namespace = onto"
   ]
  },
  {
   "cell_type": "markdown",
   "metadata": {},
   "source": [
    "#### Create datatype properties\n",
    "Properties of type owl:DatatypeProperty have only literals as range,\n",
    "They are rdfs:subPropertyOf owl:topDatatypeProperty"
   ]
  },
  {
   "cell_type": "code",
   "execution_count": 15,
   "metadata": {},
   "outputs": [],
   "source": [
    "# datatype properties \n",
    "class birth_date(DataProperty, FunctionalProperty): #every Person has only one birth date\n",
    "    namespace = onto\n",
    "    domain = [Person]\n",
    "    range = [str] # we will use strings for the time being\n",
    "        \n",
    "class age(DataProperty, FunctionalProperty):\n",
    "    namespace = onto\n",
    "    domain = [Person]\n",
    "    range = [int] "
   ]
  },
  {
   "cell_type": "code",
   "execution_count": 16,
   "metadata": {
    "scrolled": false
   },
   "outputs": [
    {
     "data": {
      "text/plain": [
       "[myonto.birth_date,\n",
       " myonto.age,\n",
       " myonto.plays_instrument,\n",
       " myonto.has_fan,\n",
       " myonto.born_in,\n",
       " myonto.has_artist,\n",
       " myonto.located_in,\n",
       " myonto.plays_in,\n",
       " myonto.is_fan,\n",
       " myonto.plays_with]"
      ]
     },
     "execution_count": 16,
     "metadata": {},
     "output_type": "execute_result"
    }
   ],
   "source": [
    "#print all properties\n",
    "list(onto.properties()) # can also return .object_properties() or .data_properties()"
   ]
  },
  {
   "cell_type": "markdown",
   "metadata": {},
   "source": [
    "#### Adding class restrictions \n",
    "Class Restictions are special owl:Classes"
   ]
  },
  {
   "cell_type": "code",
   "execution_count": 18,
   "metadata": {
    "scrolled": true
   },
   "outputs": [],
   "source": [
    "# restriction over Band : a band must have minimum 2 artists\n",
    "Band.is_a.append(has_artist.min(2,Artist)) \n",
    "\n",
    "# restriction over Artist : someone that plays at least 1 instrument\n",
    "Artist.is_a.append(plays_instrument.min(1))\n",
    "\n",
    "\n",
    "# restrictions can also be specified in a class definition directly\n",
    "class Fan(Person): \n",
    "    equivalent_to = [ Person & is_fan.some(Artist)]  \n",
    "\n",
    "class SoloArtist(Artist):\n",
    "    equivalent_to = [ Artist & Not(plays_in.some(Band))]\n",
    "\n",
    "class MusicPerformer(Thing): \n",
    "    namespace=onto\n",
    "    equivalent_to = [ Band | SoloArtist ]  \n",
    " "
   ]
  },
  {
   "cell_type": "markdown",
   "metadata": {},
   "source": [
    "Let's add some disjointness between classes"
   ]
  },
  {
   "cell_type": "code",
   "execution_count": null,
   "metadata": {},
   "outputs": [],
   "source": [
    "# in this world, you cannot be a Band and a SoloArtist at the same time \n",
    "AllDisjoint([Band,SoloArtist])"
   ]
  },
  {
   "cell_type": "markdown",
   "metadata": {},
   "source": [
    "#### Create instances (individuals)\n",
    "Instances in OWL are called individuals!"
   ]
  },
  {
   "cell_type": "code",
   "execution_count": 20,
   "metadata": {},
   "outputs": [],
   "source": [
    "biffy = Band(\"biffy_clyro\")\n",
    "simon = Artist(\"simon_neil\", namespace = onto ) # you can also add a namespace\n",
    "\n",
    "# creating individuals with properties \n",
    "james = Artist(\"james_johnston\",  plays_with=[simon] )\n",
    "ilaria = Person(\"ilaria\", is_fan=[simon], birth_date=\"19-03-1997\" ) # because I am 23 yo\n",
    "    \n",
    "# or adding a property to an individual directly\n",
    "simon.plays_in = [biffy]\n",
    "    \n",
    "uk = Location('united_kingdom', namespace= onto)\n",
    "scotland = Location(\"Scotland\", namespace= onto, located_in = [uk])\n",
    "edi = Location(\"Edinburgh\", namespace= onto, located_in = [scotland])"
   ]
  },
  {
   "cell_type": "markdown",
   "metadata": {},
   "source": [
    "Let's also look at disjointness in our ontology"
   ]
  },
  {
   "cell_type": "code",
   "execution_count": 26,
   "metadata": {},
   "outputs": [
    {
     "data": {
      "text/plain": [
       "AllDisjoint([myonto.guitar, myonto.piano, myonto.vocals])"
      ]
     },
     "execution_count": 26,
     "metadata": {},
     "output_type": "execute_result"
    }
   ],
   "source": [
    "guitar     = Instrument('guitar')\n",
    "piano    = Instrument('piano')\n",
    "vocals = Instrument('vocals')\n",
    "\n",
    "# Assert that there is only three possible instruments in this world\n",
    "Instrument.is_a.append(OneOf([guitar, piano, vocals]))\n",
    "\n",
    "#and that all instruments are different (instance level)\n",
    "AllDifferent([guitar, piano, vocals])"
   ]
  },
  {
   "cell_type": "markdown",
   "metadata": {},
   "source": [
    "#### Basic ontology querying\n",
    "\n",
    "Let's search information in our ontology"
   ]
  },
  {
   "cell_type": "code",
   "execution_count": 27,
   "metadata": {
    "scrolled": false
   },
   "outputs": [
    {
     "name": "stdout",
     "output_type": "stream",
     "text": [
      "Simon's IRI : http://test.org/myonto.owl#simon_neil\n",
      "Ilaria is born on 19-03-1997\n",
      "\n",
      "Who plays with someone? \n",
      "[myonto.james_johnston, myonto.simon_neil]\n",
      "\n",
      "Search for a IRI containing 'ilaria'\n",
      "[myonto.ilaria]\n",
      "\n",
      "Which artist has a fan?\n",
      "[myonto.simon_neil]\n"
     ]
    }
   ],
   "source": [
    "print(\"Simon's IRI : %s\" % simon.iri)\n",
    "print(\"Ilaria is born on %s\" % ilaria.birth_date)\n",
    "print(\"\")  \n",
    "print(\"Who plays with someone? \\n%s\"% onto.search(plays_with = \"*\"))\n",
    "print(\"\")\n",
    "print(\"Search for a IRI containing 'ilaria'\\n%s\" % onto.search(iri = \"*ilaria\"))\n",
    "print(\"\")\n",
    "print(\"Which artist has a fan?\\n%s\" % onto.search(type=onto.Artist, has_fan=\"*\"))\n",
    "\n",
    "## other Basic queries\n",
    "# iri, for searching entities by its full IRI\n",
    "# type, for searching Individuals of a given Class\n",
    "# subclass_of, for searching subclasses of a given Class\n",
    "# is_a*, for searching both Individuals and subclasses of a given Class"
   ]
  },
  {
   "cell_type": "code",
   "execution_count": 25,
   "metadata": {},
   "outputs": [
    {
     "name": "stdout",
     "output_type": "stream",
     "text": [
      "[myonto.Band, myonto.SoloArtist]\n"
     ]
    }
   ],
   "source": [
    "for d in onto.disjoints(): # will print both AllDifferent (individuals) and AllDisjoint (classes)\n",
    "    print(d.entities)"
   ]
  },
  {
   "cell_type": "markdown",
   "metadata": {},
   "source": [
    "#### Save asserted triples"
   ]
  },
  {
   "cell_type": "code",
   "execution_count": 28,
   "metadata": {},
   "outputs": [],
   "source": [
    "onto.save(file = \"my_ontology_asserted.owl\", format = \"rdfxml\") # also supported ntriples"
   ]
  },
  {
   "cell_type": "markdown",
   "metadata": {},
   "source": [
    "## Inference time\n",
    "\n",
    "Let's look at how reasoning works.\n",
    "\n",
    "\n",
    "Some things (eg superclasses) are already inferred by owlready2"
   ]
  },
  {
   "cell_type": "code",
   "execution_count": 33,
   "metadata": {},
   "outputs": [
    {
     "name": "stdout",
     "output_type": "stream",
     "text": [
      "myonto.ilaria\n",
      "myonto.simon_neil\n",
      "myonto.james_johnston\n",
      "\n",
      "myonto.guitar\n",
      "myonto.piano\n",
      "myonto.vocals\n"
     ]
    }
   ],
   "source": [
    "# NB : we never assert that simon and james were persons!\n",
    "for p in Person.instances(): # all people :\n",
    "    print(p)\n",
    "\n",
    "print(\"\")\n",
    "for i in Instrument.instances(): # all instruments :\n",
    "    print(i) "
   ]
  },
  {
   "cell_type": "code",
   "execution_count": 34,
   "metadata": {
    "scrolled": true
   },
   "outputs": [
    {
     "name": "stdout",
     "output_type": "stream",
     "text": [
      "Simon has fan : [myonto.ilaria]\n",
      "Simon plays with : [myonto.james_johnston]\n"
     ]
    }
   ],
   "source": [
    "print(\"Simon has fan : %s\" % simon.has_fan) # did we specify that simon has any fan?\n",
    "print(\"Simon plays with : %s\" % simon.plays_with) # did we specify who simon plays with?"
   ]
  },
  {
   "cell_type": "code",
   "execution_count": 35,
   "metadata": {
    "scrolled": false
   },
   "outputs": [
    {
     "name": "stdout",
     "output_type": "stream",
     "text": [
      "Edinburgh is located in : [myonto.Scotland]\n"
     ]
    }
   ],
   "source": [
    "# this does not work! We need a reasoner !\n",
    "print(\"Edinburgh is located in : %s\" % edi.located_in) "
   ]
  },
  {
   "cell_type": "markdown",
   "metadata": {},
   "source": [
    "### Consistency checking\n",
    "\n",
    "Check out a full example at https://owlready2.readthedocs.io/en/latest/reasoning.html\n"
   ]
  },
  {
   "cell_type": "code",
   "execution_count": 37,
   "metadata": {
    "scrolled": false
   },
   "outputs": [
    {
     "name": "stderr",
     "output_type": "stream",
     "text": [
      "* Owlready2 * Running HermiT...\n",
      "    java -Xmx2000M -cp /Library/Frameworks/Python.framework/Versions/3.7/lib/python3.7/site-packages/owlready2/hermit:/Library/Frameworks/Python.framework/Versions/3.7/lib/python3.7/site-packages/owlready2/hermit/HermiT.jar org.semanticweb.HermiT.cli.CommandLine -c -O -D -I file:////var/folders/__/qmryvtb57hvfvr_2z74h90yr0000gn/T/tmpr0zcydiw -Y\n"
     ]
    },
    {
     "name": "stdout",
     "output_type": "stream",
     "text": [
      "* Owlready * Adding relation myonto.Edinburgh located_in myonto.united_kingdom\n"
     ]
    },
    {
     "name": "stderr",
     "output_type": "stream",
     "text": [
      "* Owlready2 * HermiT took 2.394881010055542 seconds\n",
      "* Owlready * Reparenting myonto.SoloArtist: {myonto.Artist} => {myonto.MusicPerformer, myonto.Artist}\n",
      "* Owlready * Reparenting myonto.Band: {owl.Thing} => {myonto.MusicPerformer}\n",
      "* Owlready * Reparenting myonto.ilaria: {myonto.Person} => {myonto.Fan}\n",
      "* Owlready * (NB: only changes on entities loaded in Python are shown, other changes are done but not listed)\n"
     ]
    }
   ],
   "source": [
    "# after adding all restrictions we can run a reasoner\n",
    "\n",
    "with onto : \n",
    "    sync_reasoner(infer_property_values = True)\n",
    "    # if you remove infer_property and infer_data_property, it will only infer over Classes!"
   ]
  },
  {
   "cell_type": "markdown",
   "metadata": {},
   "source": [
    "Owlready automatically gets the results of the reasoning from HermiT (a type of reasoner) and reclassifies Individuals and Classes. \n",
    "\n",
    "For example, Owlready inferred 2 new superclasses for SoloArtist : MusicPerformer and Artist ."
   ]
  },
  {
   "cell_type": "code",
   "execution_count": 38,
   "metadata": {
    "scrolled": false
   },
   "outputs": [
    {
     "data": {
      "text/plain": [
       "{myonto.Artist,\n",
       " myonto.MusicPerformer,\n",
       " myonto.Person,\n",
       " myonto.SoloArtist,\n",
       " owl.Thing}"
      ]
     },
     "execution_count": 38,
     "metadata": {},
     "output_type": "execute_result"
    }
   ],
   "source": [
    "# let's look at its superclasses\n",
    "SoloArtist.ancestors()"
   ]
  },
  {
   "cell_type": "markdown",
   "metadata": {},
   "source": [
    "Now we have inferred that Edinburgh is in Scotland!"
   ]
  },
  {
   "cell_type": "code",
   "execution_count": 39,
   "metadata": {
    "scrolled": true
   },
   "outputs": [
    {
     "data": {
      "text/plain": [
       "[myonto.Scotland, myonto.united_kingdom]"
      ]
     },
     "execution_count": 39,
     "metadata": {},
     "output_type": "execute_result"
    }
   ],
   "source": [
    "edi.located_in # now it works :)"
   ]
  },
  {
   "cell_type": "markdown",
   "metadata": {},
   "source": [
    "#### Querying inferred triples\n",
    "\n",
    "- *.get_parents_of(entity)* accepts any entity (Class, property or individual), and returns the superclasses (for a class), the superproperties (for a property), or the classes (for an individual). \n",
    "\n",
    "- *.get_instances_of(Class)* returns the individuals that are asserted as belonging to the given Class in the ontology. (NB for obtaining all instances, independently of the ontology they are asserted in, use Class.instances()).\n",
    "\n",
    "- *.get_children_of(entity)* returns the subclasses (or subproperties) that are asserted for the given Class or property in the ontology. (NB for obtaining all children, independently of the ontology they are asserted in, use entity.subclasses())."
   ]
  },
  {
   "cell_type": "code",
   "execution_count": 40,
   "metadata": {},
   "outputs": [
    {
     "name": "stdout",
     "output_type": "stream",
     "text": [
      "[myonto.Artist, myonto.MusicPerformer]\n",
      "[myonto.Band, myonto.SoloArtist]\n",
      "[myonto.guitar, myonto.piano, myonto.vocals]\n"
     ]
    }
   ],
   "source": [
    "print(onto.get_parents_of(SoloArtist))\n",
    "print(onto.get_children_of(MusicPerformer))\n",
    "print(onto.get_instances_of(Instrument))"
   ]
  },
  {
   "cell_type": "code",
   "execution_count": 41,
   "metadata": {},
   "outputs": [
    {
     "data": {
      "text/plain": [
       "[]"
      ]
     },
     "execution_count": 41,
     "metadata": {},
     "output_type": "execute_result"
    }
   ],
   "source": [
    "# checks for inconsistencies in the ontology\n",
    "list(default_world.inconsistent_classes())"
   ]
  },
  {
   "cell_type": "markdown",
   "metadata": {},
   "source": [
    "#### Save inferred ontology\n",
    "\n",
    "Once inferred all facts with can save the ontology with the asserted and inferred facts. Compare it with your ontology_asserted.owl, and check for the differences."
   ]
  },
  {
   "cell_type": "code",
   "execution_count": 41,
   "metadata": {},
   "outputs": [],
   "source": [
    "onto.save(file = \"my_ontology_inferred.owl\", format = \"rdfxml\") # also supported ntriples"
   ]
  }
 ],
 "metadata": {
  "kernelspec": {
   "display_name": "Python 3",
   "language": "python",
   "name": "python3"
  },
  "language_info": {
   "codemirror_mode": {
    "name": "ipython",
    "version": 3
   },
   "file_extension": ".py",
   "mimetype": "text/x-python",
   "name": "python",
   "nbconvert_exporter": "python",
   "pygments_lexer": "ipython3",
   "version": "3.7.4"
  }
 },
 "nbformat": 4,
 "nbformat_minor": 2
}
