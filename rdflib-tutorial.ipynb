{
 "cells": [
  {
   "cell_type": "markdown",
   "metadata": {},
   "source": [
    "# Knowledge Representation on the Web -- RDF tutorial\n",
    "\n",
    "In this tutorial we'll learn the basics of interacting with RDF graphs with Python. We'll be using rdflib for this, a widely used Ptyhon library for RDF (all documentation can be found [here](https://rdflib.readthedocs.io/en/stable/index.html))"
   ]
  },
  {
   "cell_type": "markdown",
   "metadata": {},
   "source": [
    "## Imports\n",
    "These are the main classes and types we'll be using from rdflib"
   ]
  },
  {
   "cell_type": "code",
   "execution_count": 3,
   "metadata": {},
   "outputs": [
    {
     "name": "stdout",
     "output_type": "stream",
     "text": [
      "Requirement already satisfied: rdflib in c:\\python38\\lib\\site-packages (6.0.2)\n",
      "Requirement already satisfied: pyparsing in c:\\python38\\lib\\site-packages (from rdflib) (3.0.6)\n",
      "Requirement already satisfied: isodate in c:\\python38\\lib\\site-packages (from rdflib) (0.6.1)\n",
      "Requirement already satisfied: setuptools in c:\\python38\\lib\\site-packages (from rdflib) (56.0.0)\n",
      "Requirement already satisfied: six in c:\\python38\\lib\\site-packages (from isodate->rdflib) (1.16.0)\n"
     ]
    },
    {
     "name": "stderr",
     "output_type": "stream",
     "text": [
      "WARNING: You are using pip version 21.1.1; however, version 21.3.1 is available.\n",
      "You should consider upgrading via the 'c:\\python38\\python.exe -m pip install --upgrade pip' command.\n"
     ]
    }
   ],
   "source": [
    "import sys\n",
    "!{sys.executable} -m pip install rdflib\n",
    "\n",
    "from rdflib import Graph, ConjunctiveGraph, Literal, BNode, Namespace, RDF, URIRef\n",
    "from rdflib.namespace import DC, FOAF\n",
    "\n",
    "import pprint\n"
   ]
  },
  {
   "cell_type": "markdown",
   "metadata": {},
   "source": [
    "## Loading data remotely and from files\n",
    "\n",
    "rdflib accepts importing RDF data from a variety of sources, either locally from a file (including an extensive support of serializations), or remotely via a URI (this is a great way of checking practically if URIs return RDF according to the 3rd Linked Data principle).\n",
    "\n",
    "A Graph object is always required to load triples.\n",
    "**Note**: to load quads, and hence supporting named graphs, you'll need to use an instance of ConjunctiveGraph instead\n"
   ]
  },
  {
   "cell_type": "code",
   "execution_count": 4,
   "metadata": {},
   "outputs": [
    {
     "ename": "PluginException",
     "evalue": "No plugin registered for (text/html, <class 'rdflib.parser.Parser'>)",
     "output_type": "error",
     "traceback": [
      "\u001b[1;31m---------------------------------------------------------------------------\u001b[0m",
      "\u001b[1;31mKeyError\u001b[0m                                  Traceback (most recent call last)",
      "\u001b[1;32mc:\\python38\\lib\\site-packages\\rdflib\\plugin.py\u001b[0m in \u001b[0;36mget\u001b[1;34m(name, kind)\u001b[0m\n\u001b[0;32m    106\u001b[0m     \u001b[1;32mtry\u001b[0m\u001b[1;33m:\u001b[0m\u001b[1;33m\u001b[0m\u001b[1;33m\u001b[0m\u001b[0m\n\u001b[1;32m--> 107\u001b[1;33m         \u001b[0mp\u001b[0m \u001b[1;33m=\u001b[0m \u001b[0m_plugins\u001b[0m\u001b[1;33m[\u001b[0m\u001b[1;33m(\u001b[0m\u001b[0mname\u001b[0m\u001b[1;33m,\u001b[0m \u001b[0mkind\u001b[0m\u001b[1;33m)\u001b[0m\u001b[1;33m]\u001b[0m\u001b[1;33m\u001b[0m\u001b[1;33m\u001b[0m\u001b[0m\n\u001b[0m\u001b[0;32m    108\u001b[0m     \u001b[1;32mexcept\u001b[0m \u001b[0mKeyError\u001b[0m\u001b[1;33m:\u001b[0m\u001b[1;33m\u001b[0m\u001b[1;33m\u001b[0m\u001b[0m\n",
      "\u001b[1;31mKeyError\u001b[0m: ('text/html', <class 'rdflib.parser.Parser'>)",
      "\nDuring handling of the above exception, another exception occurred:\n",
      "\u001b[1;31mPluginException\u001b[0m                           Traceback (most recent call last)",
      "\u001b[1;32m~\\AppData\\Local\\Temp/ipykernel_13032/445883265.py\u001b[0m in \u001b[0;36m<module>\u001b[1;34m\u001b[0m\n\u001b[0;32m      3\u001b[0m \u001b[0mresult\u001b[0m \u001b[1;33m=\u001b[0m \u001b[0mg\u001b[0m\u001b[1;33m.\u001b[0m\u001b[0mparse\u001b[0m\u001b[1;33m(\u001b[0m\u001b[1;34m\"http://www.w3.org/People/Berners-Lee/card\"\u001b[0m\u001b[1;33m)\u001b[0m\u001b[1;33m\u001b[0m\u001b[1;33m\u001b[0m\u001b[0m\n\u001b[0;32m      4\u001b[0m \u001b[1;33m\u001b[0m\u001b[0m\n\u001b[1;32m----> 5\u001b[1;33m \u001b[0mresult2\u001b[0m \u001b[1;33m=\u001b[0m \u001b[0mh\u001b[0m\u001b[1;33m.\u001b[0m\u001b[0mparse\u001b[0m\u001b[1;33m(\u001b[0m\u001b[1;34m\"https://csarven.ca/\"\u001b[0m\u001b[1;33m)\u001b[0m\u001b[1;33m\u001b[0m\u001b[1;33m\u001b[0m\u001b[0m\n\u001b[0m\u001b[0;32m      6\u001b[0m \u001b[1;33m\u001b[0m\u001b[0m\n\u001b[0;32m      7\u001b[0m \u001b[0mprint\u001b[0m\u001b[1;33m(\u001b[0m\u001b[1;34m\"Graph has %s statements.\"\u001b[0m \u001b[1;33m%\u001b[0m \u001b[0mlen\u001b[0m\u001b[1;33m(\u001b[0m\u001b[0mg\u001b[0m\u001b[1;33m)\u001b[0m\u001b[1;33m)\u001b[0m\u001b[1;33m\u001b[0m\u001b[1;33m\u001b[0m\u001b[0m\n",
      "\u001b[1;32mc:\\python38\\lib\\site-packages\\rdflib\\graph.py\u001b[0m in \u001b[0;36mparse\u001b[1;34m(self, source, publicID, format, location, file, data, **args)\u001b[0m\n\u001b[0;32m   1248\u001b[0m                 \u001b[0mformat\u001b[0m \u001b[1;33m=\u001b[0m \u001b[1;34m\"turtle\"\u001b[0m\u001b[1;33m\u001b[0m\u001b[1;33m\u001b[0m\u001b[0m\n\u001b[0;32m   1249\u001b[0m                 \u001b[0mcould_not_guess_format\u001b[0m \u001b[1;33m=\u001b[0m \u001b[1;32mTrue\u001b[0m\u001b[1;33m\u001b[0m\u001b[1;33m\u001b[0m\u001b[0m\n\u001b[1;32m-> 1250\u001b[1;33m         \u001b[0mparser\u001b[0m \u001b[1;33m=\u001b[0m \u001b[0mplugin\u001b[0m\u001b[1;33m.\u001b[0m\u001b[0mget\u001b[0m\u001b[1;33m(\u001b[0m\u001b[0mformat\u001b[0m\u001b[1;33m,\u001b[0m \u001b[0mParser\u001b[0m\u001b[1;33m)\u001b[0m\u001b[1;33m(\u001b[0m\u001b[1;33m)\u001b[0m\u001b[1;33m\u001b[0m\u001b[1;33m\u001b[0m\u001b[0m\n\u001b[0m\u001b[0;32m   1251\u001b[0m         \u001b[1;32mtry\u001b[0m\u001b[1;33m:\u001b[0m\u001b[1;33m\u001b[0m\u001b[1;33m\u001b[0m\u001b[0m\n\u001b[0;32m   1252\u001b[0m             \u001b[0mparser\u001b[0m\u001b[1;33m.\u001b[0m\u001b[0mparse\u001b[0m\u001b[1;33m(\u001b[0m\u001b[0msource\u001b[0m\u001b[1;33m,\u001b[0m \u001b[0mself\u001b[0m\u001b[1;33m,\u001b[0m \u001b[1;33m**\u001b[0m\u001b[0margs\u001b[0m\u001b[1;33m)\u001b[0m\u001b[1;33m\u001b[0m\u001b[1;33m\u001b[0m\u001b[0m\n",
      "\u001b[1;32mc:\\python38\\lib\\site-packages\\rdflib\\plugin.py\u001b[0m in \u001b[0;36mget\u001b[1;34m(name, kind)\u001b[0m\n\u001b[0;32m    107\u001b[0m         \u001b[0mp\u001b[0m \u001b[1;33m=\u001b[0m \u001b[0m_plugins\u001b[0m\u001b[1;33m[\u001b[0m\u001b[1;33m(\u001b[0m\u001b[0mname\u001b[0m\u001b[1;33m,\u001b[0m \u001b[0mkind\u001b[0m\u001b[1;33m)\u001b[0m\u001b[1;33m]\u001b[0m\u001b[1;33m\u001b[0m\u001b[1;33m\u001b[0m\u001b[0m\n\u001b[0;32m    108\u001b[0m     \u001b[1;32mexcept\u001b[0m \u001b[0mKeyError\u001b[0m\u001b[1;33m:\u001b[0m\u001b[1;33m\u001b[0m\u001b[1;33m\u001b[0m\u001b[0m\n\u001b[1;32m--> 109\u001b[1;33m         \u001b[1;32mraise\u001b[0m \u001b[0mPluginException\u001b[0m\u001b[1;33m(\u001b[0m\u001b[1;34m\"No plugin registered for (%s, %s)\"\u001b[0m \u001b[1;33m%\u001b[0m \u001b[1;33m(\u001b[0m\u001b[0mname\u001b[0m\u001b[1;33m,\u001b[0m \u001b[0mkind\u001b[0m\u001b[1;33m)\u001b[0m\u001b[1;33m)\u001b[0m\u001b[1;33m\u001b[0m\u001b[1;33m\u001b[0m\u001b[0m\n\u001b[0m\u001b[0;32m    110\u001b[0m     \u001b[1;32mreturn\u001b[0m \u001b[0mp\u001b[0m\u001b[1;33m.\u001b[0m\u001b[0mgetClass\u001b[0m\u001b[1;33m(\u001b[0m\u001b[1;33m)\u001b[0m\u001b[1;33m\u001b[0m\u001b[1;33m\u001b[0m\u001b[0m\n\u001b[0;32m    111\u001b[0m \u001b[1;33m\u001b[0m\u001b[0m\n",
      "\u001b[1;31mPluginException\u001b[0m: No plugin registered for (text/html, <class 'rdflib.parser.Parser'>)"
     ]
    }
   ],
   "source": [
    "g = Graph()\n",
    "h = Graph()\n",
    "result = g.parse(\"http://www.w3.org/People/Berners-Lee/card\")\n",
    "\n",
    "result2 = h.parse(\"https://csarven.ca/\")\n",
    "\n",
    "print(\"Graph has %s statements.\" % len(g))\n",
    "print(\"Graph has %s statements.\" % len(h))\n"
   ]
  },
  {
   "cell_type": "code",
   "execution_count": 5,
   "metadata": {},
   "outputs": [
    {
     "name": "stdout",
     "output_type": "stream",
     "text": [
      "This is an N-Triples file\n",
      "=========================\n",
      "<http://bigasterisk.com/foaf.rdf#drewp> <http://www.w3.org/1999/02/22-rdf-syntax-ns#type> <http://xmlns.com/foaf/0.1/Person> .\n",
      "\n",
      "<http://bigasterisk.com/foaf.rdf#drewp> <http://example.com/says> \"Hello world\" .\n",
      "\n",
      "This is a RDF/XML file\n",
      "======================\n",
      "<?xml version=\"1.0\" encoding=\"UTF-8\"?>\n",
      "\n",
      "<rdf:RDF\n",
      "\n",
      "   xmlns:ns1=\"http://example.com/\"\n",
      "\n",
      "   xmlns:rdf=\"http://www.w3.org/1999/02/22-rdf-syntax-ns#\"\n",
      "\n",
      ">\n",
      "\n",
      "  <rdf:Description rdf:about=\"http://bigasterisk.com/foaf.rdf#drewp\">\n",
      "\n",
      "    <ns1:says>Hello world</ns1:says>\n",
      "\n",
      "    <rdf:type rdf:resource=\"http://xmlns.com/foaf/0.1/Person\"/>\n",
      "\n",
      "  </rdf:Description>\n",
      "\n",
      "</rdf:RDF>\n",
      "\n",
      "This is a Turtle file\n",
      "=====================\n",
      "@prefix ns1: <http://example.com/> .\n",
      "\n",
      "@prefix rdf: <http://www.w3.org/1999/02/22-rdf-syntax-ns#> .\n",
      "\n",
      "@prefix rdfs: <http://www.w3.org/2000/01/rdf-schema#> .\n",
      "\n",
      "@prefix xml: <http://www.w3.org/XML/1998/namespace> .\n",
      "\n",
      "@prefix xsd: <http://www.w3.org/2001/XMLSchema#> .\n",
      "\n",
      "\n",
      "\n",
      "<http://bigasterisk.com/foaf.rdf#drewp> a <http://xmlns.com/foaf/0.1/Person> ;\n",
      "\n",
      "    ns1:says \"Hello world\" .\n",
      "\n",
      "\n",
      "\n"
     ]
    }
   ],
   "source": [
    "with open(\"demo.nt\", \"r\") as f:\n",
    "    print(\"This is an N-Triples file\")\n",
    "    print(\"=========================\")\n",
    "    for line in f:\n",
    "        print(line)\n",
    "    \n",
    "with open(\"demo.xml\", \"r\") as f:\n",
    "    print(\"This is a RDF/XML file\")\n",
    "    print(\"======================\")\n",
    "    for line in f:\n",
    "        print(line)\n",
    "    \n",
    "with open(\"demo.ttl\", \"r\") as f:\n",
    "    print(\"This is a Turtle file\")\n",
    "    print(\"=====================\")\n",
    "    for line in f:\n",
    "        print(line)"
   ]
  },
  {
   "cell_type": "code",
   "execution_count": 6,
   "metadata": {},
   "outputs": [
    {
     "data": {
      "text/plain": [
       "2"
      ]
     },
     "execution_count": 6,
     "metadata": {},
     "output_type": "execute_result"
    }
   ],
   "source": [
    "g = Graph()\n",
    "g.parse(\"demo.ttl\", format='turtle')\n",
    "\n",
    "len(g) # prints 2"
   ]
  },
  {
   "cell_type": "code",
   "execution_count": 7,
   "metadata": {},
   "outputs": [
    {
     "name": "stdout",
     "output_type": "stream",
     "text": [
      "(rdflib.term.URIRef('http://bigasterisk.com/foaf.rdf#drewp'),\n",
      " rdflib.term.URIRef('http://www.w3.org/1999/02/22-rdf-syntax-ns#type'),\n",
      " rdflib.term.URIRef('http://xmlns.com/foaf/0.1/Person'))\n",
      "(rdflib.term.URIRef('http://bigasterisk.com/foaf.rdf#drewp'),\n",
      " rdflib.term.URIRef('http://example.com/says'),\n",
      " rdflib.term.Literal('Hello world'))\n"
     ]
    }
   ],
   "source": [
    "for stmt in g:\n",
    "    pprint.pprint(stmt)"
   ]
  },
  {
   "cell_type": "code",
   "execution_count": 8,
   "metadata": {},
   "outputs": [
    {
     "name": "stdout",
     "output_type": "stream",
     "text": [
      "(rdflib.term.URIRef('urn:a'),\n",
      " rdflib.term.URIRef('urn:p'),\n",
      " rdflib.term.URIRef('urn:b'))\n"
     ]
    }
   ],
   "source": [
    "# You can also parse directly from a string\n",
    "g = Graph()\n",
    "\n",
    "g.parse(data = '<urn:a> <urn:p> <urn:b>.', format='n3')\n",
    "for stmt in g:\n",
    "    pprint.pprint(stmt)"
   ]
  },
  {
   "cell_type": "markdown",
   "metadata": {},
   "source": [
    "## Saving RDF graphs\n",
    "\n",
    "We use the function Graph.serialize(format)"
   ]
  },
  {
   "cell_type": "code",
   "execution_count": 9,
   "metadata": {},
   "outputs": [
    {
     "name": "stderr",
     "output_type": "stream",
     "text": [
      "c:\\python38\\lib\\site-packages\\rdflib\\plugins\\serializers\\nt.py:28: UserWarning: NTSerializer does not use custom encoding.\n",
      "  warnings.warn(\"NTSerializer does not use custom encoding.\")\n"
     ]
    },
    {
     "ename": "AttributeError",
     "evalue": "'str' object has no attribute 'decode'",
     "output_type": "error",
     "traceback": [
      "\u001b[1;31m---------------------------------------------------------------------------\u001b[0m",
      "\u001b[1;31mAttributeError\u001b[0m                            Traceback (most recent call last)",
      "\u001b[1;32m~\\AppData\\Local\\Temp/ipykernel_13032/4186134095.py\u001b[0m in \u001b[0;36m<module>\u001b[1;34m\u001b[0m\n\u001b[0;32m      4\u001b[0m \u001b[1;31m#     print(a,b,c)\u001b[0m\u001b[1;33m\u001b[0m\u001b[1;33m\u001b[0m\u001b[1;33m\u001b[0m\u001b[0m\n\u001b[0;32m      5\u001b[0m \u001b[1;33m\u001b[0m\u001b[0m\n\u001b[1;32m----> 6\u001b[1;33m \u001b[0mprint\u001b[0m\u001b[1;33m(\u001b[0m\u001b[0mg\u001b[0m\u001b[1;33m.\u001b[0m\u001b[0mserialize\u001b[0m\u001b[1;33m(\u001b[0m\u001b[0mformat\u001b[0m\u001b[1;33m=\u001b[0m\u001b[1;34m'nt'\u001b[0m\u001b[1;33m)\u001b[0m\u001b[1;33m.\u001b[0m\u001b[0mdecode\u001b[0m\u001b[1;33m(\u001b[0m\u001b[1;33m)\u001b[0m\u001b[1;33m)\u001b[0m \u001b[1;31m# 'html', 'hturtle', 'mdata', 'microdata', 'n3', 'nquads', 'nt', 'rdfa', 'rdfa1.0', 'rdfa1.1', 'trix', 'turtle', 'xml'\u001b[0m\u001b[1;33m\u001b[0m\u001b[1;33m\u001b[0m\u001b[0m\n\u001b[0m",
      "\u001b[1;31mAttributeError\u001b[0m: 'str' object has no attribute 'decode'"
     ]
    }
   ],
   "source": [
    "g = Graph()\n",
    "g.parse(\"demo.nt\", format='n3')\n",
    "# for a,b,c in g:\n",
    "#     print(a,b,c)\n",
    "\n",
    "print(g.serialize(format='nt').decode()) # 'html', 'hturtle', 'mdata', 'microdata', 'n3', 'nquads', 'nt', 'rdfa', 'rdfa1.0', 'rdfa1.1', 'trix', 'turtle', 'xml'"
   ]
  },
  {
   "cell_type": "markdown",
   "metadata": {},
   "source": [
    "##  Merging graphs\n",
    "\n",
    "Merging graphs can be done via sequential parsings or by the overloaded operator +\n",
    "\n",
    "**Note:** Set-theoretic graph semantics apply"
   ]
  },
  {
   "cell_type": "code",
   "execution_count": null,
   "metadata": {},
   "outputs": [],
   "source": []
  },
  {
   "cell_type": "code",
   "execution_count": null,
   "metadata": {},
   "outputs": [],
   "source": [
    "graph = Graph()\n",
    "\n",
    "# Sequential parsings merge *new* triples\n",
    "\n",
    "graph.parse(\"demo.nt\", format='nt')\n",
    "graph.parse(\"demo.xml\", format='xml')\n",
    "\n",
    "print(\"Graph has {} triples\".format(len(graph)))"
   ]
  },
  {
   "cell_type": "code",
   "execution_count": null,
   "metadata": {},
   "outputs": [],
   "source": [
    "g1 = Graph()\n",
    "g1.parse(\"demo.nt\", format='nt')\n",
    "print(\"g1 has {} triples\".format(len(g1)))\n",
    "\n",
    "g2 = Graph()\n",
    "g2.parse(\"demo.xml\", format='xml')\n",
    "print(\"g2 has {} triples\".format(len(g2)))\n",
    "\n",
    "graph = g1 + g2\n",
    "print(\"g1 + g2 has {} triples\".format(len(graph)))"
   ]
  },
  {
   "cell_type": "code",
   "execution_count": null,
   "metadata": {},
   "outputs": [],
   "source": [
    "# Now, if we merge graphs with different contents\n",
    "\n",
    "tim_g = Graph()\n",
    "tim_g.parse(\"http://www.w3.org/People/Berners-Lee/card\")\n",
    "print(\"Tim graph has {} triples\".format(len(tim_g)))\n",
    "\n",
    "g3 = g1 + tim_g\n",
    "print(\"g3 has {} triples\".format(len(g3)))"
   ]
  },
  {
   "cell_type": "markdown",
   "metadata": {},
   "source": [
    "\n",
    "## Creating RDF triples\n",
    "\n",
    "Triples are added to the graph with the function Graph.add()\n",
    "\n",
    "The parameter is a triple given in a Python **tuple** (subject, predicate, object)\n",
    "\n",
    "Notice the namespace convenience syntax!"
   ]
  },
  {
   "cell_type": "code",
   "execution_count": null,
   "metadata": {},
   "outputs": [],
   "source": [
    "g = Graph()\n",
    "\n",
    "# Create an identifier to use as the subject for Donna.\n",
    "donna = BNode()\n",
    "# donna = URIRef(\"http://example.org/donna\")\n",
    "\n",
    "# Add triples using store's add method.\n",
    "g.add( (donna, RDF.type, FOAF.Person) )\n",
    "g.add( (donna, FOAF.nick, Literal(\"donna\", lang=\"foo\")) )\n",
    "g.add( (donna, FOAF.name, Literal(\"Donna Fales\")) )\n",
    "g.add( (donna, FOAF.mbox, URIRef(\"mailto:donna@example.org\")) )\n",
    "\n",
    "for i in range(100):\n",
    "    g.add((donna, FOAF.hadAge, Literal(i)))\n",
    "\n",
    "print(len(g))\n",
    "\n",
    "for s in g:\n",
    "    pprint.pprint(s)\n",
    "    print()\n"
   ]
  },
  {
   "cell_type": "code",
   "execution_count": null,
   "metadata": {},
   "outputs": [],
   "source": [
    "for stmt in g:\n",
    "    print(stmt)"
   ]
  },
  {
   "cell_type": "code",
   "execution_count": null,
   "metadata": {},
   "outputs": [],
   "source": [
    "print(FOAF.Person)"
   ]
  },
  {
   "cell_type": "code",
   "execution_count": null,
   "metadata": {},
   "outputs": [],
   "source": [
    "print(FOAF.imadethisup)\n",
    "\n",
    "TD - "
   ]
  },
  {
   "cell_type": "markdown",
   "metadata": {},
   "source": [
    "## Navigating graphs\n",
    "\n",
    "rdflib uses iterators to navigate Graphs. The methods for navigating subjects, predicates and objects are Graph.subjects, Graph.predicates, Graph.objects"
   ]
  },
  {
   "cell_type": "code",
   "execution_count": null,
   "metadata": {},
   "outputs": [],
   "source": [
    "g = Graph()\n",
    "g.parse(\"http://www.w3.org/People/Berners-Lee/card\")\n",
    "\n",
    "# Iterate over triples in store and print them out.\n",
    "print(\"--- printing raw triples ---\")\n",
    "for s, p, o in g:\n",
    "    print(p)"
   ]
  },
  {
   "cell_type": "code",
   "execution_count": null,
   "metadata": {},
   "outputs": [],
   "source": [
    "# Printing subjects, predicates and objects out of the tuple omits Python datatypes\n",
    "print(\"--- printing raw triples ---\")\n",
    "for s, p, o in g:\n",
    "    print(s, p, o)"
   ]
  },
  {
   "cell_type": "code",
   "execution_count": null,
   "metadata": {},
   "outputs": [],
   "source": [
    "print(\"PRINTING SUBJECTS\")\n",
    "for s in g.subjects():\n",
    "    print(s)"
   ]
  },
  {
   "cell_type": "code",
   "execution_count": null,
   "metadata": {},
   "outputs": [],
   "source": [
    "print(\"PRINTING PREDICATES\")\n",
    "for p in g.predicates():\n",
    "    if len(p) > 13:\n",
    "        print(p)\n"
   ]
  },
  {
   "cell_type": "code",
   "execution_count": null,
   "metadata": {},
   "outputs": [],
   "source": [
    "print(\"PRINTING OBJECTS\")\n",
    "for o in g.objects():\n",
    "    print(o)"
   ]
  },
  {
   "cell_type": "markdown",
   "metadata": {},
   "source": [
    "We can also filter the subjects, predicates and objects we want to retrieve, and match their values like in a database \"join\" operation"
   ]
  },
  {
   "cell_type": "code",
   "execution_count": null,
   "metadata": {
    "scrolled": true
   },
   "outputs": [],
   "source": [
    "g = Graph()\n",
    "\n",
    "# Create an identifier to use as the subject for Donna.\n",
    "donna = URIRef('urn:donna')\n",
    "ila = URIRef('urn:ila')\n",
    "# Add triples using store's add method.\n",
    "g.add( (donna, RDF.type, FOAF.Person) )\n",
    "g.add( (ila, RDF.type, FOAF.Person) )\n",
    "g.add( (ila, RDF.type, FOAF.Teacher) )\n",
    "g.add( (donna, FOAF.nick, Literal(\"donna\", lang=\"foo\")) )\n",
    "g.add( (donna, FOAF.name, Literal(\"Donna Fales\")) )\n",
    "g.add( (donna, FOAF.mbox, URIRef(\"mailto:donna@example.org\")) )\n",
    "g.add( (ila, FOAF.mbox, URIRef(\"mailto:ila@example.org\")) )\n",
    "\n",
    "# For each foaf:Person in the store print out its mbox property.\n",
    "# print(\"--- printing mboxes ---\")\n",
    "# for person in g.subjects(RDF.type, FOAF.Person):\n",
    "#     for mbox in g.objects(person, FOAF.mbox):\n",
    "#         print(mbox)\n",
    "\n",
    "# You can reuse matches of subjects to filter further e.g. objects\n",
    "for entity in g.subjects(RDF.type, None):\n",
    "    print(entity)\n",
    "    for objects in g.objects(entity, RDF.type):\n",
    "        print(objects)"
   ]
  },
  {
   "cell_type": "markdown",
   "metadata": {},
   "source": [
    "### Basic triple matching (almost querying!)\n",
    "\n",
    "We use method Graph.triples and a Python tuple that acts as a mask for specifying our criteria"
   ]
  },
  {
   "cell_type": "code",
   "execution_count": null,
   "metadata": {},
   "outputs": [],
   "source": [
    "g = Graph()\n",
    "g.parse(\"http://www.w3.org/People/Berners-Lee/card\")\n",
    "\n",
    "tim = URIRef(\"https://www.w3.org/People/Berners-Lee/card#i\")\n",
    "\n",
    "if ( tim, RDF.type, FOAF.Person ) in g:\n",
    "   print(\"This graph knows that Tim is a person!\")\n",
    "\n",
    "if ( tim, None, None ) in g:\n",
    "    print(\"This graph contains triples about Tim!\")"
   ]
  },
  {
   "cell_type": "code",
   "execution_count": null,
   "metadata": {},
   "outputs": [],
   "source": [
    "for s,p,o in g.triples( (None, None, None) ):\n",
    "    print(s,p,o)"
   ]
  },
  {
   "cell_type": "code",
   "execution_count": null,
   "metadata": {},
   "outputs": [],
   "source": [
    "for s,p,o in g.triples( (tim, RDF.type, None) ):\n",
    "    print(s,p,o)"
   ]
  },
  {
   "cell_type": "markdown",
   "metadata": {},
   "source": [
    "## Namespaces and bindings"
   ]
  },
  {
   "cell_type": "code",
   "execution_count": null,
   "metadata": {},
   "outputs": [],
   "source": [
    "mid_uri = URIRef(\"http://purl.org/midi-ld/midi#\")\n",
    "mid = Namespace(mid_uri)\n",
    "\n",
    "print(mid['hello'])  # as item - for things that are not valid python identifiers\n",
    "print(mid.hello)     # as attribute"
   ]
  },
  {
   "cell_type": "code",
   "execution_count": null,
   "metadata": {},
   "outputs": [],
   "source": [
    "g = Graph()\n",
    "\n",
    "# Create an identifier to use as the subject for Donna.\n",
    "donna = BNode()\n",
    "\n",
    "# Add triples using store's add method.\n",
    "g.add( (donna, RDF.type, FOAF.Person) )\n",
    "g.add( (donna, FOAF.nick, Literal(\"donna\", lang=\"foo\")) )\n",
    "g.add( (donna, FOAF.name, Literal(\"Donna Fales\")) )\n",
    "g.add( (donna, FOAF.mbox, URIRef(\"mailto:donna@example.org\")) )\n",
    "\n",
    "print(g.serialize(format='turtle').decode())"
   ]
  },
  {
   "cell_type": "code",
   "execution_count": null,
   "metadata": {},
   "outputs": [],
   "source": [
    "foaf_uri = URIRef(\"http://xmlns.com/foaf/0.1/\")\n",
    "foaf_namespace = Namespace(foaf_uri)\n",
    "\n",
    "g = Graph()\n",
    "\n",
    "# Bind a few prefix, namespace pairs for more readable output\n",
    "g.bind(\"foaf\", foaf_namespace)\n",
    "\n",
    "# Create an identifier to use as the subject for Donna.\n",
    "donna = BNode()\n",
    "\n",
    "# Add triples using store's add method.\n",
    "g.add( (donna, RDF.type, FOAF.Person) )\n",
    "g.add( (donna, FOAF.nick, Literal(\"donna\", lang=\"foo\")) )\n",
    "g.add( (donna, FOAF.name, Literal(\"Donna Fales\")) )\n",
    "g.add( (donna, FOAF.mbox, URIRef(\"mailto:donna@example.org\")) )\n",
    "\n",
    "print(g.serialize(format='turtle').decode())"
   ]
  }
 ],
 "metadata": {
  "kernelspec": {
   "display_name": "Python 3 (ipykernel)",
   "language": "python",
   "name": "python3"
  },
  "language_info": {
   "codemirror_mode": {
    "name": "ipython",
    "version": 3
   },
   "file_extension": ".py",
   "mimetype": "text/x-python",
   "name": "python",
   "nbconvert_exporter": "python",
   "pygments_lexer": "ipython3",
   "version": "3.8.10"
  }
 },
 "nbformat": 4,
 "nbformat_minor": 2
}
